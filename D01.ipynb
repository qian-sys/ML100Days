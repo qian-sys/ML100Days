import numpy as np
a= np.arange(0,21,1)
print(a)
b=a[0:21:2]
print(b)
c=a[::3]
print(c)
