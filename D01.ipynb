#D01
import numpy as np
